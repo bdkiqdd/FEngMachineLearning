{
 "cells": [
  {
   "cell_type": "markdown",
   "metadata": {},
   "source": [
    "#### Imports "
   ]
  },
  {
   "cell_type": "code",
   "execution_count": 2,
   "metadata": {},
   "outputs": [],
   "source": [
    "import os\n",
    "import json\n",
    "import sagemaker\n",
    "import boto3\n",
    "import numpy as np\n",
    "import pandas as pd\n",
    "from sagemaker.serializers import CSVSerializer\n",
    "from sagemaker.inputs import TrainingInput\n",
    "from sagemaker.predictor import Predictor\n",
    "from sagemaker import get_execution_role\n"
   ]
  },
  {
   "cell_type": "markdown",
   "metadata": {},
   "source": [
    "#### Data Load"
   ]
  },
  {
   "cell_type": "code",
   "execution_count": 6,
   "metadata": {},
   "outputs": [
    {
     "data": {
      "text/plain": [
       "\"\\nsession = boto3.Session()\\ns3 = session.resource('s3')\\ns3\\n\\nrole = get_execution_role()\\nrole\\n\\nbucket = 'kiq-bucket'\\nprefix = 'dados'\\n\\nraiz = f's3://{bucket}/{prefix}/'\\nraiz\\n\\ndata_train = TrainingInput(s3_data = raiz + 'train.csv',content_type = 'csv')\\ndata_test = TrainingInput(s3_data = raiz + 'test.csv',content_type = 'csv')\\n\\n\""
      ]
     },
     "execution_count": 6,
     "metadata": {},
     "output_type": "execute_result"
    }
   ],
   "source": [
    "# To production\n",
    "\"\"\"\n",
    "session = boto3.Session()\n",
    "s3 = session.resource('s3')\n",
    "s3\n",
    "\n",
    "role = get_execution_role()\n",
    "role\n",
    "\n",
    "bucket = 'kiq-bucket'\n",
    "prefix = 'dados'\n",
    "\n",
    "raiz = f's3://{bucket}/{prefix}/'\n",
    "raiz\n",
    "\n",
    "data_train = TrainingInput(s3_data = raiz + 'train.csv',content_type = 'csv')\n",
    "data_test = TrainingInput(s3_data = raiz + 'test.csv',content_type = 'csv')\n",
    "\n",
    "\"\"\""
   ]
  },
  {
   "cell_type": "code",
   "execution_count": 9,
   "metadata": {},
   "outputs": [],
   "source": [
    "data_train = TrainingInput(s3_data = 'data/train.csv',content_type='csv') \n",
    "data_test = TrainingInput(s3_data = 'data/test.csv',content_type='csv') "
   ]
  },
  {
   "cell_type": "code",
   "execution_count": 10,
   "metadata": {},
   "outputs": [
    {
     "name": "stdout",
     "output_type": "stream",
     "text": [
      "{\n",
      "  \"config\": {\n",
      "    \"DataSource\": {\n",
      "      \"S3DataSource\": {\n",
      "        \"S3DataType\": \"S3Prefix\",\n",
      "        \"S3Uri\": \"data/train.csv\",\n",
      "        \"S3DataDistributionType\": \"FullyReplicated\"\n",
      "      }\n",
      "    },\n",
      "    \"ContentType\": \"csv\"\n",
      "  }\n",
      "}\n"
     ]
    }
   ],
   "source": [
    "print(json.dumps(data_train.__dict__,indent=2))"
   ]
  },
  {
   "cell_type": "code",
   "execution_count": 11,
   "metadata": {},
   "outputs": [
    {
     "name": "stdout",
     "output_type": "stream",
     "text": [
      "{\n",
      "  \"config\": {\n",
      "    \"DataSource\": {\n",
      "      \"S3DataSource\": {\n",
      "        \"S3DataType\": \"S3Prefix\",\n",
      "        \"S3Uri\": \"data/test.csv\",\n",
      "        \"S3DataDistributionType\": \"FullyReplicated\"\n",
      "      }\n",
      "    },\n",
      "    \"ContentType\": \"csv\"\n",
      "  }\n",
      "}\n"
     ]
    }
   ],
   "source": [
    "print(json.dumps(data_test.__dict__,indent=2))"
   ]
  },
  {
   "cell_type": "markdown",
   "metadata": {},
   "source": [
    "#### Building Model"
   ]
  },
  {
   "cell_type": "code",
   "execution_count": null,
   "metadata": {},
   "outputs": [],
   "source": []
  }
 ],
 "metadata": {
  "interpreter": {
   "hash": "7074af2338b7340ee1a9509da5c0c8aedd6a25481f64e833250ce0b64bdc252b"
  },
  "kernelspec": {
   "display_name": "Python 3.9.7 64-bit ('DatAn': conda)",
   "language": "python",
   "name": "python3"
  },
  "language_info": {
   "codemirror_mode": {
    "name": "ipython",
    "version": 3
   },
   "file_extension": ".py",
   "mimetype": "text/x-python",
   "name": "python",
   "nbconvert_exporter": "python",
   "pygments_lexer": "ipython3",
   "version": "3.9.7"
  },
  "orig_nbformat": 4
 },
 "nbformat": 4,
 "nbformat_minor": 2
}
