{
 "cells": [
  {
   "cell_type": "markdown",
   "metadata": {},
   "source": [
    "#### Imports"
   ]
  },
  {
   "cell_type": "code",
   "execution_count": 3,
   "metadata": {},
   "outputs": [],
   "source": [
    "from sklearn.neighbors import KNeighborsClassifier\n",
    "import pandas as pd"
   ]
  },
  {
   "cell_type": "markdown",
   "metadata": {},
   "source": [
    "#### Data Load and Pre process"
   ]
  },
  {
   "cell_type": "code",
   "execution_count": 4,
   "metadata": {},
   "outputs": [
    {
     "data": {
      "text/plain": [
       "\"\\nfrom sagemaker import get_execution_role\\nrole = get_execution_role()\\nprint(role)\\n\\ns3_bucket = 'kiq-bucket'\\nprefix = 'dados'\\n\\nraiz = f's3://{s3_bucket}/{prefix}/'\\nprint(raiz)\\n\\n\\ndf = pd.read_csv(raiz + 'dataset.csv')\\ndf.head()\\n\""
      ]
     },
     "execution_count": 4,
     "metadata": {},
     "output_type": "execute_result"
    }
   ],
   "source": [
    "# On production\n",
    "\"\"\"\n",
    "from sagemaker import get_execution_role\n",
    "role = get_execution_role()\n",
    "print(role)\n",
    "\n",
    "s3_bucket = 'kiq-bucket'\n",
    "prefix = 'dados'\n",
    "\n",
    "raiz = f's3://{s3_bucket}/{prefix}/'\n",
    "print(raiz)\n",
    "\n",
    "\n",
    "df = pd.read_csv(raiz + 'train.csv', names=['class','bmi','diastolic_bp_change','systolic_bp_change','respiratory_rate'])\n",
    "\n",
    "df.head()\n",
    "\"\"\"\n"
   ]
  },
  {
   "cell_type": "code",
   "execution_count": 19,
   "metadata": {},
   "outputs": [
    {
     "data": {
      "text/html": [
       "<div>\n",
       "<style scoped>\n",
       "    .dataframe tbody tr th:only-of-type {\n",
       "        vertical-align: middle;\n",
       "    }\n",
       "\n",
       "    .dataframe tbody tr th {\n",
       "        vertical-align: top;\n",
       "    }\n",
       "\n",
       "    .dataframe thead th {\n",
       "        text-align: right;\n",
       "    }\n",
       "</style>\n",
       "<table border=\"1\" class=\"dataframe\">\n",
       "  <thead>\n",
       "    <tr style=\"text-align: right;\">\n",
       "      <th></th>\n",
       "      <th>bmi</th>\n",
       "      <th>diastolic_bp_change</th>\n",
       "      <th>systolic_bp_change</th>\n",
       "      <th>respiratory_rate</th>\n",
       "      <th>class</th>\n",
       "    </tr>\n",
       "  </thead>\n",
       "  <tbody>\n",
       "    <tr>\n",
       "      <th>0</th>\n",
       "      <td>-1.483765</td>\n",
       "      <td>-1.003436</td>\n",
       "      <td>-0.927406</td>\n",
       "      <td>-0.817379</td>\n",
       "      <td>0</td>\n",
       "    </tr>\n",
       "    <tr>\n",
       "      <th>1</th>\n",
       "      <td>0.947850</td>\n",
       "      <td>-1.003436</td>\n",
       "      <td>-0.927406</td>\n",
       "      <td>-0.662177</td>\n",
       "      <td>1</td>\n",
       "    </tr>\n",
       "    <tr>\n",
       "      <th>2</th>\n",
       "      <td>-1.034765</td>\n",
       "      <td>2.206180</td>\n",
       "      <td>2.057467</td>\n",
       "      <td>-0.817379</td>\n",
       "      <td>0</td>\n",
       "    </tr>\n",
       "    <tr>\n",
       "      <th>3</th>\n",
       "      <td>-1.406122</td>\n",
       "      <td>0.179054</td>\n",
       "      <td>-0.445975</td>\n",
       "      <td>-0.817379</td>\n",
       "      <td>0</td>\n",
       "    </tr>\n",
       "    <tr>\n",
       "      <th>4</th>\n",
       "      <td>0.366195</td>\n",
       "      <td>-0.665582</td>\n",
       "      <td>0.228029</td>\n",
       "      <td>-0.431359</td>\n",
       "      <td>0</td>\n",
       "    </tr>\n",
       "  </tbody>\n",
       "</table>\n",
       "</div>"
      ],
      "text/plain": [
       "        bmi  diastolic_bp_change  systolic_bp_change  respiratory_rate  class\n",
       "0 -1.483765            -1.003436           -0.927406         -0.817379      0\n",
       "1  0.947850            -1.003436           -0.927406         -0.662177      1\n",
       "2 -1.034765             2.206180            2.057467         -0.817379      0\n",
       "3 -1.406122             0.179054           -0.445975         -0.817379      0\n",
       "4  0.366195            -0.665582            0.228029         -0.431359      0"
      ]
     },
     "execution_count": 19,
     "metadata": {},
     "output_type": "execute_result"
    }
   ],
   "source": [
    "# To test\n",
    "df = pd.read_csv('data/train.csv',names=['bmi','diastolic_bp_change','systolic_bp_change','respiratory_rate','class'])\n",
    "df.head()\n"
   ]
  },
  {
   "cell_type": "code",
   "execution_count": 20,
   "metadata": {},
   "outputs": [],
   "source": [
    "X_train = df[['bmi','diastolic_bp_change','systolic_bp_change','respiratory_rate']]\n",
    "y_train = df['class']"
   ]
  },
  {
   "cell_type": "markdown",
   "metadata": {},
   "source": [
    "#### Model"
   ]
  },
  {
   "cell_type": "code",
   "execution_count": 21,
   "metadata": {},
   "outputs": [],
   "source": [
    "knn = KNeighborsClassifier()"
   ]
  },
  {
   "cell_type": "code",
   "execution_count": 22,
   "metadata": {},
   "outputs": [
    {
     "data": {
      "text/plain": [
       "KNeighborsClassifier()"
      ]
     },
     "execution_count": 22,
     "metadata": {},
     "output_type": "execute_result"
    }
   ],
   "source": [
    "knn.fit(X_train,y_train)"
   ]
  },
  {
   "cell_type": "markdown",
   "metadata": {},
   "source": [
    "#### Model classification"
   ]
  },
  {
   "cell_type": "code",
   "execution_count": 23,
   "metadata": {},
   "outputs": [
    {
     "data": {
      "text/plain": [
       "\"\\ndf_test = pd.read_csv(raiz + 'test.csv', names=['bmi','diastolic_bp_change','systolic_bp_change','respiratory_rate','class'])\\n\\nX_test = df_test[['bmi','diastolic_bp_change','systolic_bp_change','respiratory_rate','class']]\\ny_test = df_test['class']\\n\\n\""
      ]
     },
     "execution_count": 23,
     "metadata": {},
     "output_type": "execute_result"
    }
   ],
   "source": [
    "# To production\n",
    "\"\"\"\n",
    "df_test = pd.read_csv(raiz + 'test.csv', names=['bmi','diastolic_bp_change','systolic_bp_change','respiratory_rate','class'])\n",
    "\n",
    "X_test = df_test[['bmi','diastolic_bp_change','systolic_bp_change','respiratory_rate','class']]\n",
    "y_test = df_test['class']\n",
    "\n",
    "\"\"\""
   ]
  },
  {
   "cell_type": "code",
   "execution_count": 24,
   "metadata": {},
   "outputs": [],
   "source": [
    "# To test\n",
    "df_test = pd.read_csv('data/test.csv',names=['bmi','diastolic_bp_change','systolic_bp_change','respiratory_rate','class'])\n",
    "\n",
    "X_test = df_test[['bmi','diastolic_bp_change','systolic_bp_change','respiratory_rate']]\n",
    "y_test = df_test['class']"
   ]
  },
  {
   "cell_type": "code",
   "execution_count": 27,
   "metadata": {},
   "outputs": [
    {
     "name": "stdout",
     "output_type": "stream",
     "text": [
      "Accuracy on Test = 76.56%\n"
     ]
    }
   ],
   "source": [
    "# Accuracy\n",
    "acc = knn.score(X_test,y_test)\n",
    "print(f'Accuracy on Test = {(acc*100):.2f}%')"
   ]
  },
  {
   "cell_type": "code",
   "execution_count": null,
   "metadata": {},
   "outputs": [],
   "source": []
  }
 ],
 "metadata": {
  "interpreter": {
   "hash": "7074af2338b7340ee1a9509da5c0c8aedd6a25481f64e833250ce0b64bdc252b"
  },
  "kernelspec": {
   "display_name": "Python 3.9.7 64-bit ('DatAn': conda)",
   "language": "python",
   "name": "python3"
  },
  "language_info": {
   "codemirror_mode": {
    "name": "ipython",
    "version": 3
   },
   "file_extension": ".py",
   "mimetype": "text/x-python",
   "name": "python",
   "nbconvert_exporter": "python",
   "pygments_lexer": "ipython3",
   "version": "3.9.7"
  },
  "orig_nbformat": 4
 },
 "nbformat": 4,
 "nbformat_minor": 2
}
