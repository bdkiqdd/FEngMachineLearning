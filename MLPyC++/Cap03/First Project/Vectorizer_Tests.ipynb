{
 "cells": [
  {
   "cell_type": "code",
   "execution_count": 18,
   "id": "3e6c18c1-ceb3-4860-966a-beadf969e7d8",
   "metadata": {},
   "outputs": [],
   "source": [
    "from sklearn.feature_extraction.text import CountVectorizer\n",
    "import pandas as pd"
   ]
  },
  {
   "cell_type": "code",
   "execution_count": 12,
   "id": "2184a579-894b-4bb6-82cf-cc8bf0e86989",
   "metadata": {},
   "outputs": [],
   "source": [
    "text = ['A batata esta a dois metros de outras batatas'\n",
    "        ,'A batata não esta a dois metros de outras batatas'\n",
    "        ,'Não existe batata'\n",
    "       ]"
   ]
  },
  {
   "cell_type": "markdown",
   "id": "950b4cef-9392-453e-8266-d4fe62b49d6d",
   "metadata": {},
   "source": [
    "## Sklearn CountVectorizer"
   ]
  },
  {
   "cell_type": "code",
   "execution_count": 13,
   "id": "eb423792-3151-4276-b6f9-2dd371f829ff",
   "metadata": {},
   "outputs": [],
   "source": [
    "vectorizer = CountVectorizer()\n",
    "t_matrix = vectorizer.fit_transform(text)"
   ]
  },
  {
   "cell_type": "code",
   "execution_count": 16,
   "id": "d3206dfe-e5b0-4d5a-8e10-618adc0f8222",
   "metadata": {},
   "outputs": [
    {
     "data": {
      "text/plain": [
       "['batata',\n",
       " 'batatas',\n",
       " 'de',\n",
       " 'dois',\n",
       " 'esta',\n",
       " 'existe',\n",
       " 'metros',\n",
       " 'não',\n",
       " 'outras']"
      ]
     },
     "execution_count": 16,
     "metadata": {},
     "output_type": "execute_result"
    }
   ],
   "source": [
    "vectorizer.get_feature_names()"
   ]
  },
  {
   "cell_type": "code",
   "execution_count": 17,
   "id": "2735abf0-c0a7-4818-ae2c-f05017b9f82e",
   "metadata": {},
   "outputs": [
    {
     "data": {
      "text/plain": [
       "array([[1, 1, 1, 1, 1, 0, 1, 0, 1],\n",
       "       [1, 1, 1, 1, 1, 0, 1, 1, 1],\n",
       "       [1, 0, 0, 0, 0, 1, 0, 1, 0]])"
      ]
     },
     "execution_count": 17,
     "metadata": {},
     "output_type": "execute_result"
    }
   ],
   "source": [
    "t_matrix.toarray()"
   ]
  },
  {
   "cell_type": "code",
   "execution_count": 19,
   "id": "e9cdf027-7466-4839-a74f-5dc77e23deb7",
   "metadata": {},
   "outputs": [],
   "source": [
    "matrix = pd.DataFrame(data=t_matrix.toarray(),columns=vectorizer.get_feature_names())"
   ]
  },
  {
   "cell_type": "code",
   "execution_count": 20,
   "id": "098eb261-1004-422e-b99d-b17b17c47998",
   "metadata": {},
   "outputs": [
    {
     "data": {
      "text/html": [
       "<div>\n",
       "<style scoped>\n",
       "    .dataframe tbody tr th:only-of-type {\n",
       "        vertical-align: middle;\n",
       "    }\n",
       "\n",
       "    .dataframe tbody tr th {\n",
       "        vertical-align: top;\n",
       "    }\n",
       "\n",
       "    .dataframe thead th {\n",
       "        text-align: right;\n",
       "    }\n",
       "</style>\n",
       "<table border=\"1\" class=\"dataframe\">\n",
       "  <thead>\n",
       "    <tr style=\"text-align: right;\">\n",
       "      <th></th>\n",
       "      <th>batata</th>\n",
       "      <th>batatas</th>\n",
       "      <th>de</th>\n",
       "      <th>dois</th>\n",
       "      <th>esta</th>\n",
       "      <th>existe</th>\n",
       "      <th>metros</th>\n",
       "      <th>não</th>\n",
       "      <th>outras</th>\n",
       "    </tr>\n",
       "  </thead>\n",
       "  <tbody>\n",
       "    <tr>\n",
       "      <th>0</th>\n",
       "      <td>1</td>\n",
       "      <td>1</td>\n",
       "      <td>1</td>\n",
       "      <td>1</td>\n",
       "      <td>1</td>\n",
       "      <td>0</td>\n",
       "      <td>1</td>\n",
       "      <td>0</td>\n",
       "      <td>1</td>\n",
       "    </tr>\n",
       "    <tr>\n",
       "      <th>1</th>\n",
       "      <td>1</td>\n",
       "      <td>1</td>\n",
       "      <td>1</td>\n",
       "      <td>1</td>\n",
       "      <td>1</td>\n",
       "      <td>0</td>\n",
       "      <td>1</td>\n",
       "      <td>1</td>\n",
       "      <td>1</td>\n",
       "    </tr>\n",
       "    <tr>\n",
       "      <th>2</th>\n",
       "      <td>1</td>\n",
       "      <td>0</td>\n",
       "      <td>0</td>\n",
       "      <td>0</td>\n",
       "      <td>0</td>\n",
       "      <td>1</td>\n",
       "      <td>0</td>\n",
       "      <td>1</td>\n",
       "      <td>0</td>\n",
       "    </tr>\n",
       "  </tbody>\n",
       "</table>\n",
       "</div>"
      ],
      "text/plain": [
       "   batata  batatas  de  dois  esta  existe  metros  não  outras\n",
       "0       1        1   1     1     1       0       1    0       1\n",
       "1       1        1   1     1     1       0       1    1       1\n",
       "2       1        0   0     0     0       1       0    1       0"
      ]
     },
     "execution_count": 20,
     "metadata": {},
     "output_type": "execute_result"
    }
   ],
   "source": [
    "matrix"
   ]
  },
  {
   "cell_type": "markdown",
   "id": "0dd6bcbf-72d8-449a-89a5-a00693fc9bfe",
   "metadata": {},
   "source": [
    "## Sklearn TfidfVectorizer"
   ]
  },
  {
   "cell_type": "code",
   "execution_count": 21,
   "id": "dbb916b9-327b-44d7-a617-a25e92b0d78b",
   "metadata": {},
   "outputs": [],
   "source": [
    "from sklearn.feature_extraction.text import TfidfVectorizer"
   ]
  },
  {
   "cell_type": "code",
   "execution_count": 22,
   "id": "b2731c98-9d16-4f29-bf27-1c4687b222c4",
   "metadata": {},
   "outputs": [],
   "source": [
    "vector = TfidfVectorizer()"
   ]
  },
  {
   "cell_type": "code",
   "execution_count": 23,
   "id": "cce484e3-20a3-455e-a533-b75183a5d84c",
   "metadata": {},
   "outputs": [],
   "source": [
    "tfidf_matrix = vector.fit_transform(text)"
   ]
  },
  {
   "cell_type": "code",
   "execution_count": 24,
   "id": "1231e032-c8ec-47d0-8519-1d5fac9158ad",
   "metadata": {},
   "outputs": [
    {
     "data": {
      "text/plain": [
       "array([[0.30221618, 0.38915836, 0.38915836, 0.38915836, 0.38915836,\n",
       "        0.        , 0.38915836, 0.        , 0.38915836],\n",
       "       [0.28164125, 0.36266439, 0.36266439, 0.36266439, 0.36266439,\n",
       "        0.        , 0.36266439, 0.36266439, 0.36266439],\n",
       "       [0.42544054, 0.        , 0.        , 0.        , 0.        ,\n",
       "        0.72033345, 0.        , 0.54783215, 0.        ]])"
      ]
     },
     "execution_count": 24,
     "metadata": {},
     "output_type": "execute_result"
    }
   ],
   "source": [
    "tfidf_matrix.toarray()"
   ]
  },
  {
   "cell_type": "code",
   "execution_count": 25,
   "id": "39f9ae86-3c6d-4089-9a21-18009287bd8b",
   "metadata": {},
   "outputs": [],
   "source": [
    "tfidf_matrix_show = pd.DataFrame(data=tfidf_matrix.toarray(),columns=vector.get_feature_names())"
   ]
  },
  {
   "cell_type": "code",
   "execution_count": 26,
   "id": "fee93398-a6b5-492e-9c23-06becc5b58b4",
   "metadata": {},
   "outputs": [
    {
     "data": {
      "text/html": [
       "<div>\n",
       "<style scoped>\n",
       "    .dataframe tbody tr th:only-of-type {\n",
       "        vertical-align: middle;\n",
       "    }\n",
       "\n",
       "    .dataframe tbody tr th {\n",
       "        vertical-align: top;\n",
       "    }\n",
       "\n",
       "    .dataframe thead th {\n",
       "        text-align: right;\n",
       "    }\n",
       "</style>\n",
       "<table border=\"1\" class=\"dataframe\">\n",
       "  <thead>\n",
       "    <tr style=\"text-align: right;\">\n",
       "      <th></th>\n",
       "      <th>batata</th>\n",
       "      <th>batatas</th>\n",
       "      <th>de</th>\n",
       "      <th>dois</th>\n",
       "      <th>esta</th>\n",
       "      <th>existe</th>\n",
       "      <th>metros</th>\n",
       "      <th>não</th>\n",
       "      <th>outras</th>\n",
       "    </tr>\n",
       "  </thead>\n",
       "  <tbody>\n",
       "    <tr>\n",
       "      <th>0</th>\n",
       "      <td>0.302216</td>\n",
       "      <td>0.389158</td>\n",
       "      <td>0.389158</td>\n",
       "      <td>0.389158</td>\n",
       "      <td>0.389158</td>\n",
       "      <td>0.000000</td>\n",
       "      <td>0.389158</td>\n",
       "      <td>0.000000</td>\n",
       "      <td>0.389158</td>\n",
       "    </tr>\n",
       "    <tr>\n",
       "      <th>1</th>\n",
       "      <td>0.281641</td>\n",
       "      <td>0.362664</td>\n",
       "      <td>0.362664</td>\n",
       "      <td>0.362664</td>\n",
       "      <td>0.362664</td>\n",
       "      <td>0.000000</td>\n",
       "      <td>0.362664</td>\n",
       "      <td>0.362664</td>\n",
       "      <td>0.362664</td>\n",
       "    </tr>\n",
       "    <tr>\n",
       "      <th>2</th>\n",
       "      <td>0.425441</td>\n",
       "      <td>0.000000</td>\n",
       "      <td>0.000000</td>\n",
       "      <td>0.000000</td>\n",
       "      <td>0.000000</td>\n",
       "      <td>0.720333</td>\n",
       "      <td>0.000000</td>\n",
       "      <td>0.547832</td>\n",
       "      <td>0.000000</td>\n",
       "    </tr>\n",
       "  </tbody>\n",
       "</table>\n",
       "</div>"
      ],
      "text/plain": [
       "     batata   batatas        de      dois      esta    existe    metros  \\\n",
       "0  0.302216  0.389158  0.389158  0.389158  0.389158  0.000000  0.389158   \n",
       "1  0.281641  0.362664  0.362664  0.362664  0.362664  0.000000  0.362664   \n",
       "2  0.425441  0.000000  0.000000  0.000000  0.000000  0.720333  0.000000   \n",
       "\n",
       "        não    outras  \n",
       "0  0.000000  0.389158  \n",
       "1  0.362664  0.362664  \n",
       "2  0.547832  0.000000  "
      ]
     },
     "execution_count": 26,
     "metadata": {},
     "output_type": "execute_result"
    }
   ],
   "source": [
    "tfidf_matrix_show"
   ]
  },
  {
   "cell_type": "code",
   "execution_count": 27,
   "id": "7c857d22-cf9c-43bf-bde9-d9e47d097c47",
   "metadata": {},
   "outputs": [],
   "source": [
    "# That's above is a normalized vector matrix"
   ]
  },
  {
   "cell_type": "code",
   "execution_count": null,
   "id": "f3f686b7-3b23-4d75-b777-0b8123cf6143",
   "metadata": {},
   "outputs": [],
   "source": []
  }
 ],
 "metadata": {
  "kernelspec": {
   "display_name": "Python 3",
   "language": "python",
   "name": "python3"
  },
  "language_info": {
   "codemirror_mode": {
    "name": "ipython",
    "version": 3
   },
   "file_extension": ".py",
   "mimetype": "text/x-python",
   "name": "python",
   "nbconvert_exporter": "python",
   "pygments_lexer": "ipython3",
   "version": "3.8.8"
  }
 },
 "nbformat": 4,
 "nbformat_minor": 5
}
