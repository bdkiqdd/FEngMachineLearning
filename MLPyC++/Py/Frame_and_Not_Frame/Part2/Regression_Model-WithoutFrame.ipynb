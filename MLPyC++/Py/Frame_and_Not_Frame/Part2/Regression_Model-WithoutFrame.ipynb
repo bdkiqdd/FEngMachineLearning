{
 "cells": [
  {
   "cell_type": "markdown",
   "metadata": {},
   "source": [
    "## Project Two - Predict Finance Return\n",
    "### Part 2 - Without Framework"
   ]
  },
  {
   "cell_type": "markdown",
   "metadata": {},
   "source": [
    "### Imports"
   ]
  },
  {
   "cell_type": "code",
   "execution_count": 12,
   "metadata": {},
   "outputs": [],
   "source": [
    "from os import getcwd\n",
    "from math import sqrt\n",
    "from csv import reader,writer"
   ]
  },
  {
   "cell_type": "markdown",
   "metadata": {},
   "source": [
    "### Get path information"
   ]
  },
  {
   "cell_type": "code",
   "execution_count": 13,
   "metadata": {},
   "outputs": [],
   "source": [
    "path = getcwd()"
   ]
  },
  {
   "cell_type": "markdown",
   "metadata": {},
   "source": [
    "### Def to calc variation"
   ]
  },
  {
   "cell_type": "code",
   "execution_count": 14,
   "metadata": {},
   "outputs": [],
   "source": [
    "def mean(values):\n",
    "    return sum(values) / float(len(values))"
   ]
  },
  {
   "cell_type": "markdown",
   "metadata": {},
   "source": [
    "### Def to calc covariance"
   ]
  },
  {
   "cell_type": "code",
   "execution_count": 15,
   "metadata": {},
   "outputs": [],
   "source": [
    "def covariance(x,mean_x,y,mean_y):\n",
    "    covar = 0.0\n",
    "    for i in range(len(x)):\n",
    "        covar += (x[i] - mean_x) * (y[i] - mean_y)\n",
    "    return covar"
   ]
  },
  {
   "cell_type": "markdown",
   "metadata": {},
   "source": [
    "### Def to calc variance"
   ]
  },
  {
   "cell_type": "code",
   "execution_count": 16,
   "metadata": {},
   "outputs": [],
   "source": [
    "def variance(list,mean):\n",
    "    return sum([x-mean ** 2 for x in list])"
   ]
  },
  {
   "cell_type": "markdown",
   "metadata": {},
   "source": [
    "### Def to calc coefficients"
   ]
  },
  {
   "cell_type": "code",
   "execution_count": 17,
   "metadata": {},
   "outputs": [],
   "source": [
    "def coefficient(covar,var,mean_x,mean_y):\n",
    "    b1 = covar/var\n",
    "    b0 = mean_y - (b1 * mean_x)\n",
    "    return b1,b0"
   ]
  },
  {
   "cell_type": "markdown",
   "metadata": {},
   "source": [
    "### Def to Data load"
   ]
  },
  {
   "cell_type": "code",
   "execution_count": 18,
   "metadata": {},
   "outputs": [],
   "source": [
    "def data_load(dataset):\n",
    "    init=0\n",
    "    x = list()\n",
    "    y = list()\n",
    "    with open(dataset) as file:\n",
    "        content = reader(file)\n",
    "        for row in content:\n",
    "            if init == 0:\n",
    "                init = 1\n",
    "            else:\n",
    "                x.append(row[0])\n",
    "                y.append(row[1])\n",
    "    return x,y\n"
   ]
  },
  {
   "cell_type": "markdown",
   "metadata": {},
   "source": [
    "### Def to Data Split"
   ]
  },
  {
   "cell_type": "code",
   "execution_count": 19,
   "metadata": {},
   "outputs": [],
   "source": [
    "def split_dataset(x,y):\n",
    "\n",
    "    X_train = list()\n",
    "    X_test = list()\n",
    "    Y_train = list()\n",
    "    Y_test = list()\n",
    "\n",
    "    training_size = int(.8 * len(x))\n",
    "\n",
    "    X_train,X_test = x[0:training_size], x[training_size::]\n",
    "    Y_train,Y_test = y[0:training_size], y[training_size::]\n",
    "\n",
    "    return X_train,X_test,Y_train,Y_test"
   ]
  },
  {
   "cell_type": "markdown",
   "metadata": {},
   "source": [
    "### Def to calc Regression equation"
   ]
  },
  {
   "cell_type": "code",
   "execution_count": 20,
   "metadata": {},
   "outputs": [],
   "source": [
    "def predict(b0,b1, teste_x):\n",
    "    predicted_y = list()\n",
    "    for i in teste_x:\n",
    "        predicted_y.append(b0*b1*i)\n",
    "    return predicted_y"
   ]
  },
  {
   "cell_type": "markdown",
   "metadata": {},
   "source": [
    "### Def to calc RMSE"
   ]
  },
  {
   "cell_type": "code",
   "execution_count": 21,
   "metadata": {},
   "outputs": [],
   "source": [
    "def rmse(predicted_y,test_y):\n",
    "    error = 0.0\n",
    "    for i in range(len(predicted_y)):\n",
    "        sum_error = (predicted_y[i] - test_y[i]) ** 2\n",
    "    return sqrt(sum_error / float(len(test_y)))"
   ]
  },
  {
   "cell_type": "markdown",
   "metadata": {},
   "source": [
    "### Main code part"
   ]
  },
  {
   "cell_type": "code",
   "execution_count": 23,
   "metadata": {},
   "outputs": [
    {
     "name": "stdout",
     "output_type": "stream",
     "text": [
      "\n",
      " Coefficients\n",
      "B1: -0.002826729370384553\n",
      "B0: 127.41402569537186\n",
      "\n",
      "Regression Linear model, without Framework\n",
      "\n",
      "Mean error: 24.285055522680306\n",
      "\n",
      "Predicted return 127.21615463944494\n",
      "\n"
     ]
    }
   ],
   "source": [
    "def main():\n",
    "    try:\n",
    "        # data load\n",
    "        dataset = path + \"/dados/dataset.csv\"\n",
    "        x,y = data_load(dataset)\n",
    "\n",
    "        # data preaper\n",
    "        x = [float(i) for i in x]\n",
    "        y = [float(i) for i in y]\n",
    "\n",
    "        # calc mean, covariance and variance\n",
    "        mean_x = mean(x)\n",
    "        mean_y = mean(y)\n",
    "        covar = covariance(x,mean_x,y,mean_y)\n",
    "        var = variance(x,mean_x)\n",
    "\n",
    "        # data division\n",
    "        X_train,X_test,Y_train,Y_test = split_dataset(x,y)\n",
    "\n",
    "        # coefficients calc\n",
    "        b1,b0 = coefficient(covar,var,mean_x,mean_y)\n",
    "\n",
    "        # coefficients printing\n",
    "        print(\"\\nCoefficients\")\n",
    "        print(f'B1: {b1}')\n",
    "        print(f'B0: {b0}')\n",
    "\n",
    "        # model previsions\n",
    "        predicted_y = predict(b0,b1,X_test)\n",
    "\n",
    "        # model erro\n",
    "        root_mean = rmse(predicted_y,Y_test)\n",
    "\n",
    "        print('\\nRegression Linear model, without Framework')\n",
    "        print(f'\\nMean error: {root_mean}')\n",
    "\n",
    "        # new data\n",
    "        new_x = int(input('\\nDigite o valor do investimento: '))\n",
    "\n",
    "        # prediction\n",
    "        new_y = b0 + b1 * new_x\n",
    "        print(f'\\nPredicted return {new_y}\\n')\n",
    "    \n",
    "    except Exception as ex:\n",
    "        print(ex)\n",
    "\n",
    "main()"
   ]
  }
 ],
 "metadata": {
  "interpreter": {
   "hash": "582ee12d13c95fb1bf2d7cadfd81aafe1362f5128a02d8c02d407ae449a872b8"
  },
  "kernelspec": {
   "display_name": "Python 3.9.9 64-bit ('DatAn': conda)",
   "language": "python",
   "name": "python3"
  },
  "language_info": {
   "codemirror_mode": {
    "name": "ipython",
    "version": 3
   },
   "file_extension": ".py",
   "mimetype": "text/x-python",
   "name": "python",
   "nbconvert_exporter": "python",
   "pygments_lexer": "ipython3",
   "version": "3.9.9"
  },
  "orig_nbformat": 4
 },
 "nbformat": 4,
 "nbformat_minor": 2
}
